{
  "nbformat": 4,
  "nbformat_minor": 0,
  "metadata": {
    "colab": {
      "provenance": [],
      "authorship_tag": "ABX9TyPhtxc/mTzvwmxmOPZzlU62",
      "include_colab_link": true
    },
    "kernelspec": {
      "name": "python3",
      "display_name": "Python 3"
    },
    "language_info": {
      "name": "python"
    }
  },
  "cells": [
    {
      "cell_type": "markdown",
      "metadata": {
        "id": "view-in-github",
        "colab_type": "text"
      },
      "source": [
        "<a href=\"https://colab.research.google.com/github/NafisFuadTanvir/Machine-learning-works/blob/main/besttestratioinKNN.ipynb\" target=\"_parent\"><img src=\"https://colab.research.google.com/assets/colab-badge.svg\" alt=\"Open In Colab\"/></a>"
      ]
    },
    {
      "cell_type": "code",
      "execution_count": 1,
      "metadata": {
        "id": "OmOhn_0qqu15"
      },
      "outputs": [],
      "source": [
        "from sklearn.datasets import load_iris\n",
        "from sklearn.model_selection import train_test_split\n",
        "from sklearn.neighbors import KNeighborsClassifier\n",
        "from sklearn import metrics"
      ]
    },
    {
      "cell_type": "code",
      "source": [
        "iris = load_iris()\n",
        "X = iris.data\n",
        "y = iris.target"
      ],
      "metadata": {
        "id": "YnlJH_WGqyLQ"
      },
      "execution_count": 3,
      "outputs": []
    },
    {
      "cell_type": "code",
      "source": [
        "test_ratios = [0.1, 0.2, 0.3, 0.4, 0.5]\n",
        "avg_scores = {}"
      ],
      "metadata": {
        "id": "uYP788GOq0du"
      },
      "execution_count": 4,
      "outputs": []
    },
    {
      "cell_type": "code",
      "source": [
        "for test_ratio in test_ratios:\n",
        "    scores = []\n",
        "    for _ in range(10):\n",
        "\n",
        "        X_train, X_test, y_train, y_test = train_test_split(X, y, test_size=test_ratio)\n",
        "\n",
        "        classifier = KNeighborsClassifier(n_neighbors=5)\n",
        "        classifier.fit(X_train, y_train)\n",
        "\n",
        "\n",
        "        y_pred = classifier.predict(X_test)\n",
        "\n",
        "\n",
        "        accuracy = metrics.accuracy_score(y_test, y_pred)\n",
        "        scores.append(accuracy)\n",
        "\n",
        "\n",
        "    averageAccuracy = sum(scores) / len(scores)\n",
        "    avg_scores[test_ratio] = averageAccuracy\n",
        "\n",
        "\n",
        "bestTestRatio = max(  avg_scores, key= avg_scores.get)\n",
        "print(\"best test ratio:\", bestTestRatio)"
      ],
      "metadata": {
        "colab": {
          "base_uri": "https://localhost:8080/"
        },
        "id": "i1b572F6q4s4",
        "outputId": "55a4efda-1e8c-4000-f664-63c66c0e52da"
      },
      "execution_count": 5,
      "outputs": [
        {
          "output_type": "stream",
          "name": "stdout",
          "text": [
            "Best Test Set Ratio: 0.4\n"
          ]
        }
      ]
    }
  ]
}