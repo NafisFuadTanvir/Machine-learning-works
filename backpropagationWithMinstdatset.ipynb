{
  "nbformat": 4,
  "nbformat_minor": 0,
  "metadata": {
    "colab": {
      "provenance": [],
      "authorship_tag": "ABX9TyMekomoh5AqzNAt58j5bNfT",
      "include_colab_link": true
    },
    "kernelspec": {
      "name": "python3",
      "display_name": "Python 3"
    },
    "language_info": {
      "name": "python"
    }
  },
  "cells": [
    {
      "cell_type": "markdown",
      "metadata": {
        "id": "view-in-github",
        "colab_type": "text"
      },
      "source": [
        "<a href=\"https://colab.research.google.com/github/NafisFuadTanvir/Machine-learning-works/blob/main/backpropagationWithMinstdatset.ipynb\" target=\"_parent\"><img src=\"https://colab.research.google.com/assets/colab-badge.svg\" alt=\"Open In Colab\"/></a>"
      ]
    },
    {
      "cell_type": "code",
      "execution_count": 13,
      "metadata": {
        "id": "9u_4OdFflVg5"
      },
      "outputs": [],
      "source": [
        "import numpy as np\n",
        "import pandas as pd\n",
        "from sklearn.datasets import fetch_openml\n",
        "from sklearn.model_selection import train_test_split\n",
        "import matplotlib.pyplot as plt\n"
      ]
    },
    {
      "cell_type": "code",
      "source": [
        "mnist = fetch_openml('mnist_784')\n",
        "index_number= np.random.permutation(70000)\n",
        "X=mnist.data.loc[index_number]\n",
        "y=mnist.target.loc[index_number]"
      ],
      "metadata": {
        "colab": {
          "base_uri": "https://localhost:8080/"
        },
        "id": "9BF2XB6-li1C",
        "outputId": "aa45f73f-0893-4c60-eba5-b662c67a2338"
      },
      "execution_count": 14,
      "outputs": [
        {
          "output_type": "stream",
          "name": "stderr",
          "text": [
            "/usr/local/lib/python3.10/dist-packages/sklearn/datasets/_openml.py:968: FutureWarning: The default value of `parser` will change from `'liac-arff'` to `'auto'` in 1.4. You can set `parser='auto'` to silence this warning. Therefore, an `ImportError` will be raised from 1.4 if the dataset is dense and pandas is not installed. Note that the pandas parser may return different data types. See the Notes Section in fetch_openml's API doc for details.\n",
            "  warn(\n"
          ]
        }
      ]
    },
    {
      "cell_type": "code",
      "source": [
        "X_train , X_test , y_train , y_test = train_test_split(X, y,test_size =20, random_state =4)\n",
        "y_train = pd.get_dummies(y_train).values\n",
        "y_test = pd.get_dummies(y_test).values\n",
        "print(X_train.shape)\n",
        "print(X_test.shape)\n",
        "print(y_train.shape)\n",
        "print(y_test.shape)"
      ],
      "metadata": {
        "colab": {
          "base_uri": "https://localhost:8080/"
        },
        "id": "dPGGHAB7llVw",
        "outputId": "24ab1dee-56f4-4a47-8411-d3a7db814daa"
      },
      "execution_count": 15,
      "outputs": [
        {
          "output_type": "stream",
          "name": "stdout",
          "text": [
            "(69980, 784)\n",
            "(20, 784)\n",
            "(69980, 10)\n",
            "(20, 10)\n"
          ]
        }
      ]
    },
    {
      "cell_type": "code",
      "source": [
        "learning_rate = 0.01\n",
        "iterations = 100\n",
        "N = y_train.size\n",
        "input_size = 784\n",
        "hidden_size = 20\n",
        "output_size = 10\n",
        "results = pd.DataFrame(columns=[\"mse\", \"accuracy\"])"
      ],
      "metadata": {
        "id": "GDCGymeKlp_D"
      },
      "execution_count": 16,
      "outputs": []
    },
    {
      "cell_type": "code",
      "source": [
        "np.random.seed (10)\n",
        "W1 = np.random.normal(scale =0.5, size=(input_size , hidden_size))\n",
        "W2 = np.random.normal(scale =0.5, size=( hidden_size , output_size))"
      ],
      "metadata": {
        "id": "hFm-S3zblwkQ"
      },
      "execution_count": 17,
      "outputs": []
    },
    {
      "cell_type": "code",
      "source": [
        "def sigmoid(x):\n",
        "  return 1 / (1 + np.exp(-x))\n",
        "\n",
        "def mean_squared_error(y_pred , y_true):\n",
        "  return ((y_pred - y_true)**2).sum() / (2* y_pred.size)\n",
        "\n",
        "def accuracy(y_pred , y_true):\n",
        "  acc = y_pred.argmax(axis =1) == y_true.argmax(axis =1)\n",
        "  return acc.mean()"
      ],
      "metadata": {
        "id": "qyRZUUBSl1c9"
      },
      "execution_count": 18,
      "outputs": []
    },
    {
      "cell_type": "code",
      "source": [
        "for itr in range(iterations):\n",
        "  Z1 = np.dot(X_train , W1)\n",
        "  A1 = sigmoid(Z1)\n",
        "\n",
        "  Z2 = np.dot(A1, W2)\n",
        "  A2 = sigmoid(Z2)\n",
        "\n",
        "  mse = mean_squared_error(A2, y_train)\n",
        "  acc = accuracy(A2, y_train)\n",
        "\n",
        "  results = results.append({\"mse\":mse , \"accuracy\":acc}, ignore_index=True)\n",
        "\n",
        "  E1 = A2 - y_train\n",
        "  dW1 = E1 * A2 * (1 - A2)\n",
        "\n",
        "  E2 = np.dot(dW1 , W2.T)\n",
        "  dW2 = E2 * A1 * (1 - A1)\n",
        "\n",
        "  W2_update = np.dot(A1.T, dW1) / N\n",
        "  W1_update = np.dot(X_train.T, dW2) / N\n",
        "  W2 = W2 - learning_rate * W2_update\n",
        "  W1 = W1 - learning_rate * W1_update"
      ],
      "metadata": {
        "colab": {
          "base_uri": "https://localhost:8080/"
        },
        "id": "2x23Zxn7l2bg",
        "outputId": "45dd4451-f6a7-4847-b9a3-1e79d1e63bf9"
      },
      "execution_count": 19,
      "outputs": [
        {
          "output_type": "stream",
          "name": "stderr",
          "text": [
            "<ipython-input-18-a9012897ca7f>:2: RuntimeWarning: overflow encountered in exp\n",
            "  return 1 / (1 + np.exp(-x))\n",
            "<ipython-input-19-5461169e1954>:11: FutureWarning: The frame.append method is deprecated and will be removed from pandas in a future version. Use pandas.concat instead.\n",
            "  results = results.append({\"mse\":mse , \"accuracy\":acc}, ignore_index=True)\n",
            "<ipython-input-18-a9012897ca7f>:2: RuntimeWarning: overflow encountered in exp\n",
            "  return 1 / (1 + np.exp(-x))\n",
            "<ipython-input-19-5461169e1954>:11: FutureWarning: The frame.append method is deprecated and will be removed from pandas in a future version. Use pandas.concat instead.\n",
            "  results = results.append({\"mse\":mse , \"accuracy\":acc}, ignore_index=True)\n",
            "<ipython-input-18-a9012897ca7f>:2: RuntimeWarning: overflow encountered in exp\n",
            "  return 1 / (1 + np.exp(-x))\n",
            "<ipython-input-19-5461169e1954>:11: FutureWarning: The frame.append method is deprecated and will be removed from pandas in a future version. Use pandas.concat instead.\n",
            "  results = results.append({\"mse\":mse , \"accuracy\":acc}, ignore_index=True)\n",
            "<ipython-input-18-a9012897ca7f>:2: RuntimeWarning: overflow encountered in exp\n",
            "  return 1 / (1 + np.exp(-x))\n",
            "<ipython-input-19-5461169e1954>:11: FutureWarning: The frame.append method is deprecated and will be removed from pandas in a future version. Use pandas.concat instead.\n",
            "  results = results.append({\"mse\":mse , \"accuracy\":acc}, ignore_index=True)\n",
            "<ipython-input-18-a9012897ca7f>:2: RuntimeWarning: overflow encountered in exp\n",
            "  return 1 / (1 + np.exp(-x))\n",
            "<ipython-input-19-5461169e1954>:11: FutureWarning: The frame.append method is deprecated and will be removed from pandas in a future version. Use pandas.concat instead.\n",
            "  results = results.append({\"mse\":mse , \"accuracy\":acc}, ignore_index=True)\n",
            "<ipython-input-18-a9012897ca7f>:2: RuntimeWarning: overflow encountered in exp\n",
            "  return 1 / (1 + np.exp(-x))\n",
            "<ipython-input-19-5461169e1954>:11: FutureWarning: The frame.append method is deprecated and will be removed from pandas in a future version. Use pandas.concat instead.\n",
            "  results = results.append({\"mse\":mse , \"accuracy\":acc}, ignore_index=True)\n",
            "<ipython-input-18-a9012897ca7f>:2: RuntimeWarning: overflow encountered in exp\n",
            "  return 1 / (1 + np.exp(-x))\n",
            "<ipython-input-19-5461169e1954>:11: FutureWarning: The frame.append method is deprecated and will be removed from pandas in a future version. Use pandas.concat instead.\n",
            "  results = results.append({\"mse\":mse , \"accuracy\":acc}, ignore_index=True)\n",
            "<ipython-input-18-a9012897ca7f>:2: RuntimeWarning: overflow encountered in exp\n",
            "  return 1 / (1 + np.exp(-x))\n",
            "<ipython-input-19-5461169e1954>:11: FutureWarning: The frame.append method is deprecated and will be removed from pandas in a future version. Use pandas.concat instead.\n",
            "  results = results.append({\"mse\":mse , \"accuracy\":acc}, ignore_index=True)\n",
            "<ipython-input-18-a9012897ca7f>:2: RuntimeWarning: overflow encountered in exp\n",
            "  return 1 / (1 + np.exp(-x))\n",
            "<ipython-input-19-5461169e1954>:11: FutureWarning: The frame.append method is deprecated and will be removed from pandas in a future version. Use pandas.concat instead.\n",
            "  results = results.append({\"mse\":mse , \"accuracy\":acc}, ignore_index=True)\n",
            "<ipython-input-18-a9012897ca7f>:2: RuntimeWarning: overflow encountered in exp\n",
            "  return 1 / (1 + np.exp(-x))\n",
            "<ipython-input-19-5461169e1954>:11: FutureWarning: The frame.append method is deprecated and will be removed from pandas in a future version. Use pandas.concat instead.\n",
            "  results = results.append({\"mse\":mse , \"accuracy\":acc}, ignore_index=True)\n",
            "<ipython-input-18-a9012897ca7f>:2: RuntimeWarning: overflow encountered in exp\n",
            "  return 1 / (1 + np.exp(-x))\n",
            "<ipython-input-19-5461169e1954>:11: FutureWarning: The frame.append method is deprecated and will be removed from pandas in a future version. Use pandas.concat instead.\n",
            "  results = results.append({\"mse\":mse , \"accuracy\":acc}, ignore_index=True)\n",
            "<ipython-input-18-a9012897ca7f>:2: RuntimeWarning: overflow encountered in exp\n",
            "  return 1 / (1 + np.exp(-x))\n",
            "<ipython-input-19-5461169e1954>:11: FutureWarning: The frame.append method is deprecated and will be removed from pandas in a future version. Use pandas.concat instead.\n",
            "  results = results.append({\"mse\":mse , \"accuracy\":acc}, ignore_index=True)\n",
            "<ipython-input-18-a9012897ca7f>:2: RuntimeWarning: overflow encountered in exp\n",
            "  return 1 / (1 + np.exp(-x))\n",
            "<ipython-input-19-5461169e1954>:11: FutureWarning: The frame.append method is deprecated and will be removed from pandas in a future version. Use pandas.concat instead.\n",
            "  results = results.append({\"mse\":mse , \"accuracy\":acc}, ignore_index=True)\n",
            "<ipython-input-18-a9012897ca7f>:2: RuntimeWarning: overflow encountered in exp\n",
            "  return 1 / (1 + np.exp(-x))\n",
            "<ipython-input-19-5461169e1954>:11: FutureWarning: The frame.append method is deprecated and will be removed from pandas in a future version. Use pandas.concat instead.\n",
            "  results = results.append({\"mse\":mse , \"accuracy\":acc}, ignore_index=True)\n",
            "<ipython-input-18-a9012897ca7f>:2: RuntimeWarning: overflow encountered in exp\n",
            "  return 1 / (1 + np.exp(-x))\n",
            "<ipython-input-19-5461169e1954>:11: FutureWarning: The frame.append method is deprecated and will be removed from pandas in a future version. Use pandas.concat instead.\n",
            "  results = results.append({\"mse\":mse , \"accuracy\":acc}, ignore_index=True)\n",
            "<ipython-input-18-a9012897ca7f>:2: RuntimeWarning: overflow encountered in exp\n",
            "  return 1 / (1 + np.exp(-x))\n",
            "<ipython-input-19-5461169e1954>:11: FutureWarning: The frame.append method is deprecated and will be removed from pandas in a future version. Use pandas.concat instead.\n",
            "  results = results.append({\"mse\":mse , \"accuracy\":acc}, ignore_index=True)\n",
            "<ipython-input-18-a9012897ca7f>:2: RuntimeWarning: overflow encountered in exp\n",
            "  return 1 / (1 + np.exp(-x))\n",
            "<ipython-input-19-5461169e1954>:11: FutureWarning: The frame.append method is deprecated and will be removed from pandas in a future version. Use pandas.concat instead.\n",
            "  results = results.append({\"mse\":mse , \"accuracy\":acc}, ignore_index=True)\n",
            "<ipython-input-18-a9012897ca7f>:2: RuntimeWarning: overflow encountered in exp\n",
            "  return 1 / (1 + np.exp(-x))\n",
            "<ipython-input-19-5461169e1954>:11: FutureWarning: The frame.append method is deprecated and will be removed from pandas in a future version. Use pandas.concat instead.\n",
            "  results = results.append({\"mse\":mse , \"accuracy\":acc}, ignore_index=True)\n",
            "<ipython-input-18-a9012897ca7f>:2: RuntimeWarning: overflow encountered in exp\n",
            "  return 1 / (1 + np.exp(-x))\n",
            "<ipython-input-19-5461169e1954>:11: FutureWarning: The frame.append method is deprecated and will be removed from pandas in a future version. Use pandas.concat instead.\n",
            "  results = results.append({\"mse\":mse , \"accuracy\":acc}, ignore_index=True)\n",
            "<ipython-input-18-a9012897ca7f>:2: RuntimeWarning: overflow encountered in exp\n",
            "  return 1 / (1 + np.exp(-x))\n",
            "<ipython-input-19-5461169e1954>:11: FutureWarning: The frame.append method is deprecated and will be removed from pandas in a future version. Use pandas.concat instead.\n",
            "  results = results.append({\"mse\":mse , \"accuracy\":acc}, ignore_index=True)\n",
            "<ipython-input-18-a9012897ca7f>:2: RuntimeWarning: overflow encountered in exp\n",
            "  return 1 / (1 + np.exp(-x))\n",
            "<ipython-input-19-5461169e1954>:11: FutureWarning: The frame.append method is deprecated and will be removed from pandas in a future version. Use pandas.concat instead.\n",
            "  results = results.append({\"mse\":mse , \"accuracy\":acc}, ignore_index=True)\n",
            "<ipython-input-18-a9012897ca7f>:2: RuntimeWarning: overflow encountered in exp\n",
            "  return 1 / (1 + np.exp(-x))\n",
            "<ipython-input-19-5461169e1954>:11: FutureWarning: The frame.append method is deprecated and will be removed from pandas in a future version. Use pandas.concat instead.\n",
            "  results = results.append({\"mse\":mse , \"accuracy\":acc}, ignore_index=True)\n",
            "<ipython-input-18-a9012897ca7f>:2: RuntimeWarning: overflow encountered in exp\n",
            "  return 1 / (1 + np.exp(-x))\n",
            "<ipython-input-19-5461169e1954>:11: FutureWarning: The frame.append method is deprecated and will be removed from pandas in a future version. Use pandas.concat instead.\n",
            "  results = results.append({\"mse\":mse , \"accuracy\":acc}, ignore_index=True)\n",
            "<ipython-input-18-a9012897ca7f>:2: RuntimeWarning: overflow encountered in exp\n",
            "  return 1 / (1 + np.exp(-x))\n",
            "<ipython-input-19-5461169e1954>:11: FutureWarning: The frame.append method is deprecated and will be removed from pandas in a future version. Use pandas.concat instead.\n",
            "  results = results.append({\"mse\":mse , \"accuracy\":acc}, ignore_index=True)\n",
            "<ipython-input-18-a9012897ca7f>:2: RuntimeWarning: overflow encountered in exp\n",
            "  return 1 / (1 + np.exp(-x))\n",
            "<ipython-input-19-5461169e1954>:11: FutureWarning: The frame.append method is deprecated and will be removed from pandas in a future version. Use pandas.concat instead.\n",
            "  results = results.append({\"mse\":mse , \"accuracy\":acc}, ignore_index=True)\n",
            "<ipython-input-18-a9012897ca7f>:2: RuntimeWarning: overflow encountered in exp\n",
            "  return 1 / (1 + np.exp(-x))\n",
            "<ipython-input-19-5461169e1954>:11: FutureWarning: The frame.append method is deprecated and will be removed from pandas in a future version. Use pandas.concat instead.\n",
            "  results = results.append({\"mse\":mse , \"accuracy\":acc}, ignore_index=True)\n",
            "<ipython-input-18-a9012897ca7f>:2: RuntimeWarning: overflow encountered in exp\n",
            "  return 1 / (1 + np.exp(-x))\n",
            "<ipython-input-19-5461169e1954>:11: FutureWarning: The frame.append method is deprecated and will be removed from pandas in a future version. Use pandas.concat instead.\n",
            "  results = results.append({\"mse\":mse , \"accuracy\":acc}, ignore_index=True)\n",
            "<ipython-input-18-a9012897ca7f>:2: RuntimeWarning: overflow encountered in exp\n",
            "  return 1 / (1 + np.exp(-x))\n",
            "<ipython-input-19-5461169e1954>:11: FutureWarning: The frame.append method is deprecated and will be removed from pandas in a future version. Use pandas.concat instead.\n",
            "  results = results.append({\"mse\":mse , \"accuracy\":acc}, ignore_index=True)\n",
            "<ipython-input-18-a9012897ca7f>:2: RuntimeWarning: overflow encountered in exp\n",
            "  return 1 / (1 + np.exp(-x))\n",
            "<ipython-input-19-5461169e1954>:11: FutureWarning: The frame.append method is deprecated and will be removed from pandas in a future version. Use pandas.concat instead.\n",
            "  results = results.append({\"mse\":mse , \"accuracy\":acc}, ignore_index=True)\n",
            "<ipython-input-18-a9012897ca7f>:2: RuntimeWarning: overflow encountered in exp\n",
            "  return 1 / (1 + np.exp(-x))\n",
            "<ipython-input-19-5461169e1954>:11: FutureWarning: The frame.append method is deprecated and will be removed from pandas in a future version. Use pandas.concat instead.\n",
            "  results = results.append({\"mse\":mse , \"accuracy\":acc}, ignore_index=True)\n",
            "<ipython-input-18-a9012897ca7f>:2: RuntimeWarning: overflow encountered in exp\n",
            "  return 1 / (1 + np.exp(-x))\n",
            "<ipython-input-19-5461169e1954>:11: FutureWarning: The frame.append method is deprecated and will be removed from pandas in a future version. Use pandas.concat instead.\n",
            "  results = results.append({\"mse\":mse , \"accuracy\":acc}, ignore_index=True)\n",
            "<ipython-input-18-a9012897ca7f>:2: RuntimeWarning: overflow encountered in exp\n",
            "  return 1 / (1 + np.exp(-x))\n",
            "<ipython-input-19-5461169e1954>:11: FutureWarning: The frame.append method is deprecated and will be removed from pandas in a future version. Use pandas.concat instead.\n",
            "  results = results.append({\"mse\":mse , \"accuracy\":acc}, ignore_index=True)\n",
            "<ipython-input-18-a9012897ca7f>:2: RuntimeWarning: overflow encountered in exp\n",
            "  return 1 / (1 + np.exp(-x))\n",
            "<ipython-input-19-5461169e1954>:11: FutureWarning: The frame.append method is deprecated and will be removed from pandas in a future version. Use pandas.concat instead.\n",
            "  results = results.append({\"mse\":mse , \"accuracy\":acc}, ignore_index=True)\n",
            "<ipython-input-18-a9012897ca7f>:2: RuntimeWarning: overflow encountered in exp\n",
            "  return 1 / (1 + np.exp(-x))\n",
            "<ipython-input-19-5461169e1954>:11: FutureWarning: The frame.append method is deprecated and will be removed from pandas in a future version. Use pandas.concat instead.\n",
            "  results = results.append({\"mse\":mse , \"accuracy\":acc}, ignore_index=True)\n",
            "<ipython-input-18-a9012897ca7f>:2: RuntimeWarning: overflow encountered in exp\n",
            "  return 1 / (1 + np.exp(-x))\n",
            "<ipython-input-19-5461169e1954>:11: FutureWarning: The frame.append method is deprecated and will be removed from pandas in a future version. Use pandas.concat instead.\n",
            "  results = results.append({\"mse\":mse , \"accuracy\":acc}, ignore_index=True)\n",
            "<ipython-input-18-a9012897ca7f>:2: RuntimeWarning: overflow encountered in exp\n",
            "  return 1 / (1 + np.exp(-x))\n",
            "<ipython-input-19-5461169e1954>:11: FutureWarning: The frame.append method is deprecated and will be removed from pandas in a future version. Use pandas.concat instead.\n",
            "  results = results.append({\"mse\":mse , \"accuracy\":acc}, ignore_index=True)\n",
            "<ipython-input-18-a9012897ca7f>:2: RuntimeWarning: overflow encountered in exp\n",
            "  return 1 / (1 + np.exp(-x))\n",
            "<ipython-input-19-5461169e1954>:11: FutureWarning: The frame.append method is deprecated and will be removed from pandas in a future version. Use pandas.concat instead.\n",
            "  results = results.append({\"mse\":mse , \"accuracy\":acc}, ignore_index=True)\n",
            "<ipython-input-18-a9012897ca7f>:2: RuntimeWarning: overflow encountered in exp\n",
            "  return 1 / (1 + np.exp(-x))\n",
            "<ipython-input-19-5461169e1954>:11: FutureWarning: The frame.append method is deprecated and will be removed from pandas in a future version. Use pandas.concat instead.\n",
            "  results = results.append({\"mse\":mse , \"accuracy\":acc}, ignore_index=True)\n",
            "<ipython-input-18-a9012897ca7f>:2: RuntimeWarning: overflow encountered in exp\n",
            "  return 1 / (1 + np.exp(-x))\n",
            "<ipython-input-19-5461169e1954>:11: FutureWarning: The frame.append method is deprecated and will be removed from pandas in a future version. Use pandas.concat instead.\n",
            "  results = results.append({\"mse\":mse , \"accuracy\":acc}, ignore_index=True)\n",
            "<ipython-input-18-a9012897ca7f>:2: RuntimeWarning: overflow encountered in exp\n",
            "  return 1 / (1 + np.exp(-x))\n",
            "<ipython-input-19-5461169e1954>:11: FutureWarning: The frame.append method is deprecated and will be removed from pandas in a future version. Use pandas.concat instead.\n",
            "  results = results.append({\"mse\":mse , \"accuracy\":acc}, ignore_index=True)\n",
            "<ipython-input-18-a9012897ca7f>:2: RuntimeWarning: overflow encountered in exp\n",
            "  return 1 / (1 + np.exp(-x))\n",
            "<ipython-input-19-5461169e1954>:11: FutureWarning: The frame.append method is deprecated and will be removed from pandas in a future version. Use pandas.concat instead.\n",
            "  results = results.append({\"mse\":mse , \"accuracy\":acc}, ignore_index=True)\n",
            "<ipython-input-18-a9012897ca7f>:2: RuntimeWarning: overflow encountered in exp\n",
            "  return 1 / (1 + np.exp(-x))\n",
            "<ipython-input-19-5461169e1954>:11: FutureWarning: The frame.append method is deprecated and will be removed from pandas in a future version. Use pandas.concat instead.\n",
            "  results = results.append({\"mse\":mse , \"accuracy\":acc}, ignore_index=True)\n",
            "<ipython-input-18-a9012897ca7f>:2: RuntimeWarning: overflow encountered in exp\n",
            "  return 1 / (1 + np.exp(-x))\n",
            "<ipython-input-19-5461169e1954>:11: FutureWarning: The frame.append method is deprecated and will be removed from pandas in a future version. Use pandas.concat instead.\n",
            "  results = results.append({\"mse\":mse , \"accuracy\":acc}, ignore_index=True)\n",
            "<ipython-input-18-a9012897ca7f>:2: RuntimeWarning: overflow encountered in exp\n",
            "  return 1 / (1 + np.exp(-x))\n",
            "<ipython-input-19-5461169e1954>:11: FutureWarning: The frame.append method is deprecated and will be removed from pandas in a future version. Use pandas.concat instead.\n",
            "  results = results.append({\"mse\":mse , \"accuracy\":acc}, ignore_index=True)\n",
            "<ipython-input-18-a9012897ca7f>:2: RuntimeWarning: overflow encountered in exp\n",
            "  return 1 / (1 + np.exp(-x))\n",
            "<ipython-input-19-5461169e1954>:11: FutureWarning: The frame.append method is deprecated and will be removed from pandas in a future version. Use pandas.concat instead.\n",
            "  results = results.append({\"mse\":mse , \"accuracy\":acc}, ignore_index=True)\n",
            "<ipython-input-18-a9012897ca7f>:2: RuntimeWarning: overflow encountered in exp\n",
            "  return 1 / (1 + np.exp(-x))\n",
            "<ipython-input-19-5461169e1954>:11: FutureWarning: The frame.append method is deprecated and will be removed from pandas in a future version. Use pandas.concat instead.\n",
            "  results = results.append({\"mse\":mse , \"accuracy\":acc}, ignore_index=True)\n",
            "<ipython-input-18-a9012897ca7f>:2: RuntimeWarning: overflow encountered in exp\n",
            "  return 1 / (1 + np.exp(-x))\n",
            "<ipython-input-19-5461169e1954>:11: FutureWarning: The frame.append method is deprecated and will be removed from pandas in a future version. Use pandas.concat instead.\n",
            "  results = results.append({\"mse\":mse , \"accuracy\":acc}, ignore_index=True)\n",
            "<ipython-input-18-a9012897ca7f>:2: RuntimeWarning: overflow encountered in exp\n",
            "  return 1 / (1 + np.exp(-x))\n",
            "<ipython-input-19-5461169e1954>:11: FutureWarning: The frame.append method is deprecated and will be removed from pandas in a future version. Use pandas.concat instead.\n",
            "  results = results.append({\"mse\":mse , \"accuracy\":acc}, ignore_index=True)\n",
            "<ipython-input-18-a9012897ca7f>:2: RuntimeWarning: overflow encountered in exp\n",
            "  return 1 / (1 + np.exp(-x))\n",
            "<ipython-input-19-5461169e1954>:11: FutureWarning: The frame.append method is deprecated and will be removed from pandas in a future version. Use pandas.concat instead.\n",
            "  results = results.append({\"mse\":mse , \"accuracy\":acc}, ignore_index=True)\n",
            "<ipython-input-18-a9012897ca7f>:2: RuntimeWarning: overflow encountered in exp\n",
            "  return 1 / (1 + np.exp(-x))\n",
            "<ipython-input-19-5461169e1954>:11: FutureWarning: The frame.append method is deprecated and will be removed from pandas in a future version. Use pandas.concat instead.\n",
            "  results = results.append({\"mse\":mse , \"accuracy\":acc}, ignore_index=True)\n",
            "<ipython-input-18-a9012897ca7f>:2: RuntimeWarning: overflow encountered in exp\n",
            "  return 1 / (1 + np.exp(-x))\n",
            "<ipython-input-19-5461169e1954>:11: FutureWarning: The frame.append method is deprecated and will be removed from pandas in a future version. Use pandas.concat instead.\n",
            "  results = results.append({\"mse\":mse , \"accuracy\":acc}, ignore_index=True)\n",
            "<ipython-input-18-a9012897ca7f>:2: RuntimeWarning: overflow encountered in exp\n",
            "  return 1 / (1 + np.exp(-x))\n",
            "<ipython-input-19-5461169e1954>:11: FutureWarning: The frame.append method is deprecated and will be removed from pandas in a future version. Use pandas.concat instead.\n",
            "  results = results.append({\"mse\":mse , \"accuracy\":acc}, ignore_index=True)\n",
            "<ipython-input-18-a9012897ca7f>:2: RuntimeWarning: overflow encountered in exp\n",
            "  return 1 / (1 + np.exp(-x))\n",
            "<ipython-input-19-5461169e1954>:11: FutureWarning: The frame.append method is deprecated and will be removed from pandas in a future version. Use pandas.concat instead.\n",
            "  results = results.append({\"mse\":mse , \"accuracy\":acc}, ignore_index=True)\n",
            "<ipython-input-18-a9012897ca7f>:2: RuntimeWarning: overflow encountered in exp\n",
            "  return 1 / (1 + np.exp(-x))\n",
            "<ipython-input-19-5461169e1954>:11: FutureWarning: The frame.append method is deprecated and will be removed from pandas in a future version. Use pandas.concat instead.\n",
            "  results = results.append({\"mse\":mse , \"accuracy\":acc}, ignore_index=True)\n",
            "<ipython-input-18-a9012897ca7f>:2: RuntimeWarning: overflow encountered in exp\n",
            "  return 1 / (1 + np.exp(-x))\n",
            "<ipython-input-19-5461169e1954>:11: FutureWarning: The frame.append method is deprecated and will be removed from pandas in a future version. Use pandas.concat instead.\n",
            "  results = results.append({\"mse\":mse , \"accuracy\":acc}, ignore_index=True)\n",
            "<ipython-input-18-a9012897ca7f>:2: RuntimeWarning: overflow encountered in exp\n",
            "  return 1 / (1 + np.exp(-x))\n",
            "<ipython-input-19-5461169e1954>:11: FutureWarning: The frame.append method is deprecated and will be removed from pandas in a future version. Use pandas.concat instead.\n",
            "  results = results.append({\"mse\":mse , \"accuracy\":acc}, ignore_index=True)\n",
            "<ipython-input-18-a9012897ca7f>:2: RuntimeWarning: overflow encountered in exp\n",
            "  return 1 / (1 + np.exp(-x))\n",
            "<ipython-input-19-5461169e1954>:11: FutureWarning: The frame.append method is deprecated and will be removed from pandas in a future version. Use pandas.concat instead.\n",
            "  results = results.append({\"mse\":mse , \"accuracy\":acc}, ignore_index=True)\n",
            "<ipython-input-18-a9012897ca7f>:2: RuntimeWarning: overflow encountered in exp\n",
            "  return 1 / (1 + np.exp(-x))\n",
            "<ipython-input-19-5461169e1954>:11: FutureWarning: The frame.append method is deprecated and will be removed from pandas in a future version. Use pandas.concat instead.\n",
            "  results = results.append({\"mse\":mse , \"accuracy\":acc}, ignore_index=True)\n",
            "<ipython-input-18-a9012897ca7f>:2: RuntimeWarning: overflow encountered in exp\n",
            "  return 1 / (1 + np.exp(-x))\n",
            "<ipython-input-19-5461169e1954>:11: FutureWarning: The frame.append method is deprecated and will be removed from pandas in a future version. Use pandas.concat instead.\n",
            "  results = results.append({\"mse\":mse , \"accuracy\":acc}, ignore_index=True)\n",
            "<ipython-input-18-a9012897ca7f>:2: RuntimeWarning: overflow encountered in exp\n",
            "  return 1 / (1 + np.exp(-x))\n",
            "<ipython-input-19-5461169e1954>:11: FutureWarning: The frame.append method is deprecated and will be removed from pandas in a future version. Use pandas.concat instead.\n",
            "  results = results.append({\"mse\":mse , \"accuracy\":acc}, ignore_index=True)\n",
            "<ipython-input-18-a9012897ca7f>:2: RuntimeWarning: overflow encountered in exp\n",
            "  return 1 / (1 + np.exp(-x))\n",
            "<ipython-input-19-5461169e1954>:11: FutureWarning: The frame.append method is deprecated and will be removed from pandas in a future version. Use pandas.concat instead.\n",
            "  results = results.append({\"mse\":mse , \"accuracy\":acc}, ignore_index=True)\n",
            "<ipython-input-18-a9012897ca7f>:2: RuntimeWarning: overflow encountered in exp\n",
            "  return 1 / (1 + np.exp(-x))\n",
            "<ipython-input-19-5461169e1954>:11: FutureWarning: The frame.append method is deprecated and will be removed from pandas in a future version. Use pandas.concat instead.\n",
            "  results = results.append({\"mse\":mse , \"accuracy\":acc}, ignore_index=True)\n",
            "<ipython-input-18-a9012897ca7f>:2: RuntimeWarning: overflow encountered in exp\n",
            "  return 1 / (1 + np.exp(-x))\n",
            "<ipython-input-19-5461169e1954>:11: FutureWarning: The frame.append method is deprecated and will be removed from pandas in a future version. Use pandas.concat instead.\n",
            "  results = results.append({\"mse\":mse , \"accuracy\":acc}, ignore_index=True)\n",
            "<ipython-input-18-a9012897ca7f>:2: RuntimeWarning: overflow encountered in exp\n",
            "  return 1 / (1 + np.exp(-x))\n",
            "<ipython-input-19-5461169e1954>:11: FutureWarning: The frame.append method is deprecated and will be removed from pandas in a future version. Use pandas.concat instead.\n",
            "  results = results.append({\"mse\":mse , \"accuracy\":acc}, ignore_index=True)\n",
            "<ipython-input-18-a9012897ca7f>:2: RuntimeWarning: overflow encountered in exp\n",
            "  return 1 / (1 + np.exp(-x))\n",
            "<ipython-input-19-5461169e1954>:11: FutureWarning: The frame.append method is deprecated and will be removed from pandas in a future version. Use pandas.concat instead.\n",
            "  results = results.append({\"mse\":mse , \"accuracy\":acc}, ignore_index=True)\n",
            "<ipython-input-18-a9012897ca7f>:2: RuntimeWarning: overflow encountered in exp\n",
            "  return 1 / (1 + np.exp(-x))\n",
            "<ipython-input-19-5461169e1954>:11: FutureWarning: The frame.append method is deprecated and will be removed from pandas in a future version. Use pandas.concat instead.\n",
            "  results = results.append({\"mse\":mse , \"accuracy\":acc}, ignore_index=True)\n",
            "<ipython-input-18-a9012897ca7f>:2: RuntimeWarning: overflow encountered in exp\n",
            "  return 1 / (1 + np.exp(-x))\n",
            "<ipython-input-19-5461169e1954>:11: FutureWarning: The frame.append method is deprecated and will be removed from pandas in a future version. Use pandas.concat instead.\n",
            "  results = results.append({\"mse\":mse , \"accuracy\":acc}, ignore_index=True)\n",
            "<ipython-input-18-a9012897ca7f>:2: RuntimeWarning: overflow encountered in exp\n",
            "  return 1 / (1 + np.exp(-x))\n",
            "<ipython-input-19-5461169e1954>:11: FutureWarning: The frame.append method is deprecated and will be removed from pandas in a future version. Use pandas.concat instead.\n",
            "  results = results.append({\"mse\":mse , \"accuracy\":acc}, ignore_index=True)\n",
            "<ipython-input-18-a9012897ca7f>:2: RuntimeWarning: overflow encountered in exp\n",
            "  return 1 / (1 + np.exp(-x))\n",
            "<ipython-input-19-5461169e1954>:11: FutureWarning: The frame.append method is deprecated and will be removed from pandas in a future version. Use pandas.concat instead.\n",
            "  results = results.append({\"mse\":mse , \"accuracy\":acc}, ignore_index=True)\n",
            "<ipython-input-18-a9012897ca7f>:2: RuntimeWarning: overflow encountered in exp\n",
            "  return 1 / (1 + np.exp(-x))\n",
            "<ipython-input-19-5461169e1954>:11: FutureWarning: The frame.append method is deprecated and will be removed from pandas in a future version. Use pandas.concat instead.\n",
            "  results = results.append({\"mse\":mse , \"accuracy\":acc}, ignore_index=True)\n",
            "<ipython-input-18-a9012897ca7f>:2: RuntimeWarning: overflow encountered in exp\n",
            "  return 1 / (1 + np.exp(-x))\n",
            "<ipython-input-19-5461169e1954>:11: FutureWarning: The frame.append method is deprecated and will be removed from pandas in a future version. Use pandas.concat instead.\n",
            "  results = results.append({\"mse\":mse , \"accuracy\":acc}, ignore_index=True)\n",
            "<ipython-input-18-a9012897ca7f>:2: RuntimeWarning: overflow encountered in exp\n",
            "  return 1 / (1 + np.exp(-x))\n",
            "<ipython-input-19-5461169e1954>:11: FutureWarning: The frame.append method is deprecated and will be removed from pandas in a future version. Use pandas.concat instead.\n",
            "  results = results.append({\"mse\":mse , \"accuracy\":acc}, ignore_index=True)\n",
            "<ipython-input-18-a9012897ca7f>:2: RuntimeWarning: overflow encountered in exp\n",
            "  return 1 / (1 + np.exp(-x))\n",
            "<ipython-input-19-5461169e1954>:11: FutureWarning: The frame.append method is deprecated and will be removed from pandas in a future version. Use pandas.concat instead.\n",
            "  results = results.append({\"mse\":mse , \"accuracy\":acc}, ignore_index=True)\n",
            "<ipython-input-18-a9012897ca7f>:2: RuntimeWarning: overflow encountered in exp\n",
            "  return 1 / (1 + np.exp(-x))\n",
            "<ipython-input-19-5461169e1954>:11: FutureWarning: The frame.append method is deprecated and will be removed from pandas in a future version. Use pandas.concat instead.\n",
            "  results = results.append({\"mse\":mse , \"accuracy\":acc}, ignore_index=True)\n",
            "<ipython-input-18-a9012897ca7f>:2: RuntimeWarning: overflow encountered in exp\n",
            "  return 1 / (1 + np.exp(-x))\n",
            "<ipython-input-19-5461169e1954>:11: FutureWarning: The frame.append method is deprecated and will be removed from pandas in a future version. Use pandas.concat instead.\n",
            "  results = results.append({\"mse\":mse , \"accuracy\":acc}, ignore_index=True)\n",
            "<ipython-input-18-a9012897ca7f>:2: RuntimeWarning: overflow encountered in exp\n",
            "  return 1 / (1 + np.exp(-x))\n",
            "<ipython-input-19-5461169e1954>:11: FutureWarning: The frame.append method is deprecated and will be removed from pandas in a future version. Use pandas.concat instead.\n",
            "  results = results.append({\"mse\":mse , \"accuracy\":acc}, ignore_index=True)\n",
            "<ipython-input-18-a9012897ca7f>:2: RuntimeWarning: overflow encountered in exp\n",
            "  return 1 / (1 + np.exp(-x))\n",
            "<ipython-input-19-5461169e1954>:11: FutureWarning: The frame.append method is deprecated and will be removed from pandas in a future version. Use pandas.concat instead.\n",
            "  results = results.append({\"mse\":mse , \"accuracy\":acc}, ignore_index=True)\n",
            "<ipython-input-18-a9012897ca7f>:2: RuntimeWarning: overflow encountered in exp\n",
            "  return 1 / (1 + np.exp(-x))\n",
            "<ipython-input-19-5461169e1954>:11: FutureWarning: The frame.append method is deprecated and will be removed from pandas in a future version. Use pandas.concat instead.\n",
            "  results = results.append({\"mse\":mse , \"accuracy\":acc}, ignore_index=True)\n",
            "<ipython-input-18-a9012897ca7f>:2: RuntimeWarning: overflow encountered in exp\n",
            "  return 1 / (1 + np.exp(-x))\n",
            "<ipython-input-19-5461169e1954>:11: FutureWarning: The frame.append method is deprecated and will be removed from pandas in a future version. Use pandas.concat instead.\n",
            "  results = results.append({\"mse\":mse , \"accuracy\":acc}, ignore_index=True)\n",
            "<ipython-input-18-a9012897ca7f>:2: RuntimeWarning: overflow encountered in exp\n",
            "  return 1 / (1 + np.exp(-x))\n",
            "<ipython-input-19-5461169e1954>:11: FutureWarning: The frame.append method is deprecated and will be removed from pandas in a future version. Use pandas.concat instead.\n",
            "  results = results.append({\"mse\":mse , \"accuracy\":acc}, ignore_index=True)\n",
            "<ipython-input-18-a9012897ca7f>:2: RuntimeWarning: overflow encountered in exp\n",
            "  return 1 / (1 + np.exp(-x))\n",
            "<ipython-input-19-5461169e1954>:11: FutureWarning: The frame.append method is deprecated and will be removed from pandas in a future version. Use pandas.concat instead.\n",
            "  results = results.append({\"mse\":mse , \"accuracy\":acc}, ignore_index=True)\n",
            "<ipython-input-18-a9012897ca7f>:2: RuntimeWarning: overflow encountered in exp\n",
            "  return 1 / (1 + np.exp(-x))\n",
            "<ipython-input-19-5461169e1954>:11: FutureWarning: The frame.append method is deprecated and will be removed from pandas in a future version. Use pandas.concat instead.\n",
            "  results = results.append({\"mse\":mse , \"accuracy\":acc}, ignore_index=True)\n",
            "<ipython-input-18-a9012897ca7f>:2: RuntimeWarning: overflow encountered in exp\n",
            "  return 1 / (1 + np.exp(-x))\n",
            "<ipython-input-19-5461169e1954>:11: FutureWarning: The frame.append method is deprecated and will be removed from pandas in a future version. Use pandas.concat instead.\n",
            "  results = results.append({\"mse\":mse , \"accuracy\":acc}, ignore_index=True)\n",
            "<ipython-input-18-a9012897ca7f>:2: RuntimeWarning: overflow encountered in exp\n",
            "  return 1 / (1 + np.exp(-x))\n",
            "<ipython-input-19-5461169e1954>:11: FutureWarning: The frame.append method is deprecated and will be removed from pandas in a future version. Use pandas.concat instead.\n",
            "  results = results.append({\"mse\":mse , \"accuracy\":acc}, ignore_index=True)\n",
            "<ipython-input-18-a9012897ca7f>:2: RuntimeWarning: overflow encountered in exp\n",
            "  return 1 / (1 + np.exp(-x))\n",
            "<ipython-input-19-5461169e1954>:11: FutureWarning: The frame.append method is deprecated and will be removed from pandas in a future version. Use pandas.concat instead.\n",
            "  results = results.append({\"mse\":mse , \"accuracy\":acc}, ignore_index=True)\n",
            "<ipython-input-18-a9012897ca7f>:2: RuntimeWarning: overflow encountered in exp\n",
            "  return 1 / (1 + np.exp(-x))\n",
            "<ipython-input-19-5461169e1954>:11: FutureWarning: The frame.append method is deprecated and will be removed from pandas in a future version. Use pandas.concat instead.\n",
            "  results = results.append({\"mse\":mse , \"accuracy\":acc}, ignore_index=True)\n",
            "<ipython-input-18-a9012897ca7f>:2: RuntimeWarning: overflow encountered in exp\n",
            "  return 1 / (1 + np.exp(-x))\n",
            "<ipython-input-19-5461169e1954>:11: FutureWarning: The frame.append method is deprecated and will be removed from pandas in a future version. Use pandas.concat instead.\n",
            "  results = results.append({\"mse\":mse , \"accuracy\":acc}, ignore_index=True)\n",
            "<ipython-input-18-a9012897ca7f>:2: RuntimeWarning: overflow encountered in exp\n",
            "  return 1 / (1 + np.exp(-x))\n",
            "<ipython-input-19-5461169e1954>:11: FutureWarning: The frame.append method is deprecated and will be removed from pandas in a future version. Use pandas.concat instead.\n",
            "  results = results.append({\"mse\":mse , \"accuracy\":acc}, ignore_index=True)\n",
            "<ipython-input-18-a9012897ca7f>:2: RuntimeWarning: overflow encountered in exp\n",
            "  return 1 / (1 + np.exp(-x))\n",
            "<ipython-input-19-5461169e1954>:11: FutureWarning: The frame.append method is deprecated and will be removed from pandas in a future version. Use pandas.concat instead.\n",
            "  results = results.append({\"mse\":mse , \"accuracy\":acc}, ignore_index=True)\n",
            "<ipython-input-18-a9012897ca7f>:2: RuntimeWarning: overflow encountered in exp\n",
            "  return 1 / (1 + np.exp(-x))\n",
            "<ipython-input-19-5461169e1954>:11: FutureWarning: The frame.append method is deprecated and will be removed from pandas in a future version. Use pandas.concat instead.\n",
            "  results = results.append({\"mse\":mse , \"accuracy\":acc}, ignore_index=True)\n",
            "<ipython-input-18-a9012897ca7f>:2: RuntimeWarning: overflow encountered in exp\n",
            "  return 1 / (1 + np.exp(-x))\n",
            "<ipython-input-19-5461169e1954>:11: FutureWarning: The frame.append method is deprecated and will be removed from pandas in a future version. Use pandas.concat instead.\n",
            "  results = results.append({\"mse\":mse , \"accuracy\":acc}, ignore_index=True)\n",
            "<ipython-input-18-a9012897ca7f>:2: RuntimeWarning: overflow encountered in exp\n",
            "  return 1 / (1 + np.exp(-x))\n",
            "<ipython-input-19-5461169e1954>:11: FutureWarning: The frame.append method is deprecated and will be removed from pandas in a future version. Use pandas.concat instead.\n",
            "  results = results.append({\"mse\":mse , \"accuracy\":acc}, ignore_index=True)\n",
            "<ipython-input-18-a9012897ca7f>:2: RuntimeWarning: overflow encountered in exp\n",
            "  return 1 / (1 + np.exp(-x))\n",
            "<ipython-input-19-5461169e1954>:11: FutureWarning: The frame.append method is deprecated and will be removed from pandas in a future version. Use pandas.concat instead.\n",
            "  results = results.append({\"mse\":mse , \"accuracy\":acc}, ignore_index=True)\n",
            "<ipython-input-18-a9012897ca7f>:2: RuntimeWarning: overflow encountered in exp\n",
            "  return 1 / (1 + np.exp(-x))\n",
            "<ipython-input-19-5461169e1954>:11: FutureWarning: The frame.append method is deprecated and will be removed from pandas in a future version. Use pandas.concat instead.\n",
            "  results = results.append({\"mse\":mse , \"accuracy\":acc}, ignore_index=True)\n",
            "<ipython-input-18-a9012897ca7f>:2: RuntimeWarning: overflow encountered in exp\n",
            "  return 1 / (1 + np.exp(-x))\n",
            "<ipython-input-19-5461169e1954>:11: FutureWarning: The frame.append method is deprecated and will be removed from pandas in a future version. Use pandas.concat instead.\n",
            "  results = results.append({\"mse\":mse , \"accuracy\":acc}, ignore_index=True)\n",
            "<ipython-input-18-a9012897ca7f>:2: RuntimeWarning: overflow encountered in exp\n",
            "  return 1 / (1 + np.exp(-x))\n",
            "<ipython-input-19-5461169e1954>:11: FutureWarning: The frame.append method is deprecated and will be removed from pandas in a future version. Use pandas.concat instead.\n",
            "  results = results.append({\"mse\":mse , \"accuracy\":acc}, ignore_index=True)\n",
            "<ipython-input-18-a9012897ca7f>:2: RuntimeWarning: overflow encountered in exp\n",
            "  return 1 / (1 + np.exp(-x))\n",
            "<ipython-input-19-5461169e1954>:11: FutureWarning: The frame.append method is deprecated and will be removed from pandas in a future version. Use pandas.concat instead.\n",
            "  results = results.append({\"mse\":mse , \"accuracy\":acc}, ignore_index=True)\n",
            "<ipython-input-18-a9012897ca7f>:2: RuntimeWarning: overflow encountered in exp\n",
            "  return 1 / (1 + np.exp(-x))\n",
            "<ipython-input-19-5461169e1954>:11: FutureWarning: The frame.append method is deprecated and will be removed from pandas in a future version. Use pandas.concat instead.\n",
            "  results = results.append({\"mse\":mse , \"accuracy\":acc}, ignore_index=True)\n",
            "<ipython-input-18-a9012897ca7f>:2: RuntimeWarning: overflow encountered in exp\n",
            "  return 1 / (1 + np.exp(-x))\n",
            "<ipython-input-19-5461169e1954>:11: FutureWarning: The frame.append method is deprecated and will be removed from pandas in a future version. Use pandas.concat instead.\n",
            "  results = results.append({\"mse\":mse , \"accuracy\":acc}, ignore_index=True)\n",
            "<ipython-input-18-a9012897ca7f>:2: RuntimeWarning: overflow encountered in exp\n",
            "  return 1 / (1 + np.exp(-x))\n",
            "<ipython-input-19-5461169e1954>:11: FutureWarning: The frame.append method is deprecated and will be removed from pandas in a future version. Use pandas.concat instead.\n",
            "  results = results.append({\"mse\":mse , \"accuracy\":acc}, ignore_index=True)\n"
          ]
        }
      ]
    },
    {
      "cell_type": "code",
      "source": [
        "results.mse.plot(title=\"Mean Squared Error\")"
      ],
      "metadata": {
        "id": "MGo5Yjscl-BB",
        "colab": {
          "base_uri": "https://localhost:8080/",
          "height": 470
        },
        "outputId": "e2865662-39d6-4820-b75a-777b9ad1cd96"
      },
      "execution_count": 20,
      "outputs": [
        {
          "output_type": "execute_result",
          "data": {
            "text/plain": [
              "<Axes: title={'center': 'Mean Squared Error'}>"
            ]
          },
          "metadata": {},
          "execution_count": 20
        },
        {
          "output_type": "display_data",
          "data": {
            "text/plain": [
              "<Figure size 640x480 with 1 Axes>"
            ],
            "image/png": "[encoded data removed]"
          },
          "metadata": {}
        }
      ]
    },
    {
      "cell_type": "code",
      "source": [
        "results.accuracy.plot(title=\"Accuracy\")"
      ],
      "metadata": {
        "id": "s8Fn3yagmAVY",
        "colab": {
          "base_uri": "https://localhost:8080/",
          "height": 470
        },
        "outputId": "326dffe3-b5b5-4280-c77b-a8efe947c06a"
      },
      "execution_count": 21,
      "outputs": [
        {
          "output_type": "execute_result",
          "data": {
            "text/plain": [
              "<Axes: title={'center': 'Accuracy'}>"
            ]
          },
          "metadata": {},
          "execution_count": 21
        },
        {
          "output_type": "display_data",
          "data": {
            "text/plain": [
              "<Figure size 640x480 with 1 Axes>"
            ],
            "image/png": "[encoded data removed]"
          },
          "metadata": {}
        }
      ]
    },
    {
      "cell_type": "code",
      "source": [
        "Z1 = np.dot(X_test , W1)\n",
        "A1 = sigmoid(Z1)\n",
        "\n",
        "Z2 = np.dot(A1, W2)\n",
        "A2 = sigmoid(Z2)\n",
        "\n",
        "acc = accuracy(A2, y_test)\n",
        "print(\"Accuracy: {}\".format(acc))"
      ],
      "metadata": {
        "id": "uur1lYcwmEdZ",
        "colab": {
          "base_uri": "https://localhost:8080/"
        },
        "outputId": "a0231e7c-2581-480c-9534-3e20a069eec9"
      },
      "execution_count": 22,
      "outputs": [
        {
          "output_type": "stream",
          "name": "stdout",
          "text": [
            "Accuracy: 0.05\n"
          ]
        },
        {
          "output_type": "stream",
          "name": "stderr",
          "text": [
            "<ipython-input-18-a9012897ca7f>:2: RuntimeWarning: overflow encountered in exp\n",
            "  return 1 / (1 + np.exp(-x))\n"
          ]
        }
      ]
    }
  ]
}