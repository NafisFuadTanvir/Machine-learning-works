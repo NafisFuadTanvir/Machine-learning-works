{
  "nbformat": 4,
  "nbformat_minor": 0,
  "metadata": {
    "colab": {
      "provenance": [],
      "authorship_tag": "ABX9TyM8uM9JC/nibYVJGTRKPtvn",
      "include_colab_link": true
    },
    "kernelspec": {
      "name": "python3",
      "display_name": "Python 3"
    },
    "language_info": {
      "name": "python"
    }
  },
  "cells": [
    {
      "cell_type": "markdown",
      "metadata": {
        "id": "view-in-github",
        "colab_type": "text"
      },
      "source": [
        "<a href=\"https://colab.research.google.com/github/NafisFuadTanvir/Machine-learning-works/blob/main/best__K_in_KNN_.ipynb\" target=\"_parent\"><img src=\"https://colab.research.google.com/assets/colab-badge.svg\" alt=\"Open In Colab\"/></a>"
      ]
    },
    {
      "cell_type": "code",
      "execution_count": 1,
      "metadata": {
        "colab": {
          "base_uri": "https://localhost:8080/"
        },
        "id": "yDEbqlnii6zs",
        "outputId": "aa90cbfc-48f3-4b7b-a38f-196f86e2fa25"
      },
      "outputs": [
        {
          "output_type": "stream",
          "name": "stdout",
          "text": [
            "['sepal length (cm)', 'sepal width (cm)', 'petal length (cm)', 'petal width (cm)']\n"
          ]
        }
      ],
      "source": [
        "from sklearn.datasets import load_iris\n",
        "iris=load_iris()\n",
        "print(iris.feature_names)"
      ]
    },
    {
      "cell_type": "code",
      "source": [
        "X=iris.data[:,:4]\n",
        "Y=iris.target\n",
        "from sklearn.model_selection import train_test_split\n",
        "X_train,X_test,Y_train,Y_test= train_test_split(X,Y,test_size=0.30)"
      ],
      "metadata": {
        "id": "NbR02kaSjJNd"
      },
      "execution_count": 3,
      "outputs": []
    },
    {
      "cell_type": "code",
      "source": [
        "from sklearn.preprocessing import StandardScaler\n",
        "scaler= StandardScaler()\n",
        "scaler.fit(X_train)\n",
        "X_train=scaler.transform(X_train)\n",
        "X_test= scaler.transform(X_test)"
      ],
      "metadata": {
        "id": "iO2EJ5kqjU8M"
      },
      "execution_count": 4,
      "outputs": []
    },
    {
      "cell_type": "code",
      "source": [
        "from sklearn.neighbors import KNeighborsClassifier\n",
        "from sklearn import metrics\n"
      ],
      "metadata": {
        "id": "SczR9yj5jWb9"
      },
      "execution_count": 6,
      "outputs": []
    },
    {
      "cell_type": "code",
      "source": [
        "range_k = range(1, 15)\n",
        "scores = {}\n",
        "average_scores={}\n",
        "\n",
        "for k in range_k:\n",
        "    scores[k] = []\n",
        "    for _ in range(10):\n",
        "\n",
        "        classifier = KNeighborsClassifier(n_neighbors=k)\n",
        "        classifier.fit(X_train, Y_train)\n",
        "        y_pred = classifier.predict(X_test)\n",
        "        accuracy = metrics.accuracy_score(Y_test, y_pred)\n",
        "        scores[k].append(accuracy)\n",
        "for k, k_scores in scores.items():\n",
        "     averageAccuracy = sum(k_scores) / len(k_scores)\n",
        "     averageScores[k] = averageAccuracy\n",
        "\n",
        "\n",
        "bestvalueofK = max( averageScores, key= averageScores.get)\n",
        "print(\"best value of k after after take 10 accuracy:\", bestvalueofK)"
      ],
      "metadata": {
        "colab": {
          "base_uri": "https://localhost:8080/"
        },
        "id": "eUlRHA3ujbWL",
        "outputId": "456a04e8-eb1a-4919-fb8c-1778e46fd735"
      },
      "execution_count": 19,
      "outputs": [
        {
          "output_type": "stream",
          "name": "stdout",
          "text": [
            "best value of k after after take 10 accuracy: 1\n"
          ]
        }
      ]
    }
  ]
}